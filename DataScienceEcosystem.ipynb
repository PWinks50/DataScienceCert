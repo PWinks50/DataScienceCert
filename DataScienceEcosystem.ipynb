{
 "cells": [
  {
   "cell_type": "markdown",
   "id": "01697539-661e-4d83-bd43-b8f75cf0a897",
   "metadata": {},
   "source": [
    "# Data Science Tools and Ecosystem"
   ]
  },
  {
   "cell_type": "markdown",
   "id": "95b9f4c2-dc09-42da-96ca-2ead7161a66a",
   "metadata": {},
   "source": [
    "This notebooks details some tools and ecosystems commonly used in data science "
   ]
  },
  {
   "cell_type": "markdown",
   "id": "751001fd-09ca-476b-8cf5-70b7643371c9",
   "metadata": {},
   "source": [
    "Some common programming languages for data science are:\n",
    "\n",
    "1. Python\n",
    "2. R\n",
    "3. SQL"
   ]
  },
  {
   "cell_type": "markdown",
   "id": "b5e25e68-2473-4097-aa6d-0643565ccbea",
   "metadata": {},
   "source": [
    "Some common libraries for data science are:\n",
    "\n",
    "1. PyTorch\n",
    "2. Scikit-learn\n",
    "3. NumPy"
   ]
  },
  {
   "cell_type": "markdown",
   "id": "941c461c-24e3-4eba-bfe5-0cc9fb5c80c0",
   "metadata": {},
   "source": [
    "|Data Science Tools|\n",
    "|------------|\n",
    "|RStudio|\n",
    "|Eclipse|\n",
    "|PyCharm|"
   ]
  },
  {
   "cell_type": "markdown",
   "id": "ff3c99d5-301c-4edf-8379-57197bd182a4",
   "metadata": {},
   "source": [
    "### Below are a few examples of evaluating arithmetic expressions in Python"
   ]
  },
  {
   "cell_type": "code",
   "execution_count": 2,
   "id": "f8c47218-0fe9-45dd-aa9d-86ce19c83ec1",
   "metadata": {
    "jupyter": {
     "source_hidden": true
    },
    "tags": []
   },
   "outputs": [
    {
     "data": {
      "text/plain": [
       "17"
      ]
     },
     "execution_count": 2,
     "metadata": {},
     "output_type": "execute_result"
    }
   ],
   "source": [
    "# This expression multiplies and adds integers\n",
    "(3*4)+5"
   ]
  },
  {
   "cell_type": "code",
   "execution_count": 3,
   "id": "540410dc-8eab-4a98-95b0-a371e1d4f131",
   "metadata": {
    "tags": []
   },
   "outputs": [
    {
     "data": {
      "text/plain": [
       "3.3333333333333335"
      ]
     },
     "execution_count": 3,
     "metadata": {},
     "output_type": "execute_result"
    }
   ],
   "source": [
    "# This will convert 200 minutes to hours by diving by 60\n",
    "200 / 60"
   ]
  },
  {
   "cell_type": "markdown",
   "id": "04c68ccc-3a41-492c-877f-d1a2172a52eb",
   "metadata": {},
   "source": [
    "**Objectives:**\n",
    "- Write and execute simple code in a Jupyter Notebook\n",
    "- Report using Markdown\n",
    "- Summarize commonly used tools in data science"
   ]
  },
  {
   "cell_type": "markdown",
   "id": "cd13e38e-9cd9-458e-b811-25463c3d2025",
   "metadata": {},
   "source": [
    "## Author\n",
    "Peter Winkler"
   ]
  }
 ],
 "metadata": {
  "kernelspec": {
   "display_name": "Python",
   "language": "python",
   "name": "conda-env-python-py"
  },
  "language_info": {
   "codemirror_mode": {
    "name": "ipython",
    "version": 3
   },
   "file_extension": ".py",
   "mimetype": "text/x-python",
   "name": "python",
   "nbconvert_exporter": "python",
   "pygments_lexer": "ipython3",
   "version": "3.7.12"
  }
 },
 "nbformat": 4,
 "nbformat_minor": 5
}
